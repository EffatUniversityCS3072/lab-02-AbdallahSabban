{
  "cells": [
    {
      "cell_type": "markdown",
      "id": "582fd51e",
      "metadata": {
        "id": "582fd51e"
      },
      "source": [
        "# Lab 2: numpy\n",
        "\n",
        "#### Practice Exercise 1\n",
        "\n",
        "Create the following NumPy arrays:\n",
        "1. A 1-D array called zeros having 10 elements and all the elements are set to zero.\n",
        "2. A 1-D array called vowels having the elements ‘a’, ‘e’, ‘i’, ‘o’ and ‘u’.\n",
        "3. A 2-D array called ones having 2 rows and 5 columns and all the elements are set to 1 and dtype as int.\n",
        "4. Use nested Python lists to create a 2-D array called myarray1 having 3 rows and 3 columns and store the following data: 2.7,  0,  -2,  3.4,  10.6,  0,  -19 99.9 13\n",
        "5. A 2-D array called myarray2 using arange() having 3 rows and 5 columns with start value = 4, step size 4 and dtype as float\n"
      ]
    },
    {
      "cell_type": "code",
      "execution_count": 1,
      "id": "9195d139",
      "metadata": {
        "colab": {
          "base_uri": "https://localhost:8080/"
        },
        "id": "9195d139",
        "outputId": "10e2160f-7ba9-4e46-b968-555129d67813"
      },
      "outputs": [
        {
          "output_type": "stream",
          "name": "stdout",
          "text": [
            "#1: zeros: \n",
            " [0. 0. 0. 0. 0. 0. 0. 0. 0. 0.]\n",
            "#2: vowels: \n",
            " ['a' 'e' 'i' 'o' 'u']\n",
            "#3: ones: \n",
            " [[1 1 1 1 1]\n",
            " [1 1 1 1 1]]\n",
            "#4: myarray1: \n",
            " [[  2.7   0.   -2. ]\n",
            " [  3.4  10.6   0. ]\n",
            " [-19.   99.9  13. ]]\n",
            "#5: myarray2: \n",
            " [[ 4.  8. 12. 16. 20.]\n",
            " [24. 28. 32. 36. 40.]\n",
            " [44. 48. 52. 56. 60.]]\n"
          ]
        }
      ],
      "source": [
        "# Write your answer here\n",
        "import numpy as np\n",
        "\n",
        "#1\n",
        "zeros = np.zeros(10)\n",
        "print(\"#1: zeros: \\n\", zeros)\n",
        "#2\n",
        "vowels = np.array(['a','e','i','o','u'])\n",
        "print(\"#2: vowels: \\n\", vowels)\n",
        "#3\n",
        "ones = np.ones(10,dtype=np.int64).reshape(2,5)\n",
        "print(\"#3: ones: \\n\", ones)\n",
        "#4\n",
        "myarray1 = np.array([[2.7,0,-2],[3.4,10.6,0],[-19,99.9,13]])\n",
        "print(\"#4: myarray1: \\n\", myarray1)\n",
        "#5\n",
        "myarray2 = np.arange(4, 4*15+1, 4, dtype=float).reshape(3, 5)\n",
        "print(\"#5: myarray2: \\n\", myarray2)"
      ]
    },
    {
      "cell_type": "markdown",
      "id": "2d3fc3a8",
      "metadata": {
        "id": "2d3fc3a8"
      },
      "source": [
        "Using the arrays created in Question above, write NumPy commands for the following:\n",
        "1. Find the dimensions, shape, size, data type of the items and itemsize of arrays zeros, vowels, ones, myarray1 and myarray2.\n",
        "2. Reshape the array ones to have all the 10 elements in a single row.\n",
        "3. Display the 2nd and 3rd element of the array vowels.\n",
        "4. Display all elements in the 2nd and 3rd row of the array myarray1.\n",
        "5. Display the elements in the 1st and 2nd column of the array myarray1.\n",
        "6. Display the elements in the 1st column of the 2nd and 3rd row of the array myarray1.\n",
        "7. Reverse the array of vowels."
      ]
    },
    {
      "cell_type": "code",
      "execution_count": 2,
      "id": "fc69c3db",
      "metadata": {
        "id": "fc69c3db",
        "colab": {
          "base_uri": "https://localhost:8080/"
        },
        "outputId": "3caac40f-5b4d-4571-d673-f47dde3638c0"
      },
      "outputs": [
        {
          "output_type": "stream",
          "name": "stdout",
          "text": [
            "#1: information ordered like this: dimension shape size data-type itemsize\n",
            "ones:  2 (2, 5) 10 int64 8\n",
            "vowels:  1 (5,) 5 <U1 4\n",
            "ones:  2 (2, 5) 10 int64 8\n",
            "myarray1:  2 (3, 3) 9 float64 8\n",
            "myarray2:  2 (3, 5) 15 float64 8\n",
            "#2 :\n",
            " ones after reshape:\n",
            " [[1 1 1 1 1 1 1 1 1 1]]\n",
            "#3 2nd and 3rd elements of vowels\n",
            " e i\n",
            "#4: 2nd and 3rd rows of myarray1\n",
            " [[  3.4  10.6   0. ]\n",
            " [-19.   99.9  13. ]]\n",
            "#5: elements in 1st and 2nd column of myarray1: \n",
            "  [[  2.7   0. ]\n",
            " [  3.4  10.6]\n",
            " [-19.   99.9]]\n",
            "#6: display the elements in the 1st column of the 2nd and 3rd row of myarray1 \n",
            " [  3.4 -19. ]\n",
            "['u' 'o' 'i' 'e' 'a']\n"
          ]
        }
      ],
      "source": [
        "#Write your answer here\n",
        "#1\n",
        "print(\"#1: information ordered like this: dimension shape size data-type itemsize\")\n",
        "print(\"ones: \",ones.ndim, ones.shape, ones.size, ones.dtype, ones.itemsize )\n",
        "print(\"vowels: \", vowels.ndim, vowels.shape, vowels.size, vowels.dtype, vowels.itemsize)\n",
        "print(\"ones: \", ones.ndim, ones.shape, ones.size, ones.dtype, ones.itemsize)\n",
        "print(\"myarray1: \", myarray1.ndim, myarray1.shape, myarray1.size, myarray1.dtype, myarray1.itemsize)\n",
        "print(\"myarray2: \", myarray2.ndim, myarray2.shape, myarray2.size, myarray2.dtype, myarray2.itemsize)\n",
        "#2\n",
        "ones = ones.reshape(1,10)\n",
        "print(\"#2 :\\n ones after reshape:\\n\", ones)\n",
        "#3\n",
        "print(\"#3 2nd and 3rd elements of vowels\\n\", vowels[1], vowels[2])\n",
        "#4\n",
        "print(\"#4: 2nd and 3rd rows of myarray1\\n\", myarray1[1:3])\n",
        "#5\n",
        "print(\"#5: elements in 1st and 2nd column of myarray1: \\n \", myarray1[:,0:2])\n",
        "#6\n",
        "print(\"#6: display the elements in the 1st column of the 2nd and 3rd row of myarray1 \\n\", myarray1[1:3,0])\n",
        "#7\n",
        "vowels = vowels[::-1]\n",
        "print(vowels)"
      ]
    },
    {
      "cell_type": "markdown",
      "id": "e1edb3bb",
      "metadata": {
        "id": "e1edb3bb"
      },
      "source": [
        "Using the arrays created in Question above, write NumPy commands for the following:\n",
        "1. Divide all elements of array ones by 3.\n",
        "2. Add the arrays myarray1 and myarray2.\n",
        "3. Subtract myarray1 from myarray2 and store the result in a new array.\n",
        "4. Multiply myarray1 and myarray2 elementwise.\n",
        "5. Do the matrix multiplication of myarray1 and myarray2 and store the result in a new array myarray3.\n",
        "6. Divide myarray1 by myarray2.\n",
        "7. Find the cube of all elements of myarray1 and divide the resulting array by 2.\n",
        "8. Find the square root of all elements of myarray2   and divide the resulting array by 2. The result  should be rounded to two places of decimals."
      ]
    },
    {
      "cell_type": "code",
      "execution_count": 3,
      "id": "3c933386",
      "metadata": {
        "id": "3c933386",
        "colab": {
          "base_uri": "https://localhost:8080/"
        },
        "outputId": "1a26dd6f-a9bb-49e2-bb40-9e232d2829a5"
      },
      "outputs": [
        {
          "output_type": "stream",
          "name": "stdout",
          "text": [
            "#1: divided ones by 3, result = \n",
            " [[0.33333333 0.33333333 0.33333333 0.33333333 0.33333333 0.33333333\n",
            "  0.33333333 0.33333333 0.33333333 0.33333333]]\n",
            "#2: myarray1 + myarray2 = \n",
            " [[  6.7   8.   10. ]\n",
            " [ 27.4  38.6  32. ]\n",
            " [ 25.  147.9  65. ]]\n",
            "#3: myarray2 - myarray1 = \n",
            " [[  1.3   8.   14. ]\n",
            " [ 20.6  17.4  32. ]\n",
            " [ 63.  -51.9  39. ]]\n",
            "#4: elementwise mult. = \n",
            " [[  10.8    0.   -24. ]\n",
            " [  81.6  296.8    0. ]\n",
            " [-836.  4795.2  676. ]]\n",
            "#5: myarray3 = \n",
            " [[ -77.2  -74.4  -71.6  -68.8  -66. ]\n",
            " [ 268.   324.   380.   436.   492. ]\n",
            " [2893.6 3269.2 3644.8 4020.4 4396. ]]\n",
            "#6: division result = \n",
            " [[ 0.675       0.         -0.16666667]\n",
            " [ 0.14166667  0.37857143  0.        ]\n",
            " [-0.43181818  2.08125     0.25      ]]\n",
            "#7: result = \n",
            " [[ 9.841500e+00  0.000000e+00 -4.000000e+00]\n",
            " [ 1.965200e+01  5.955080e+02  0.000000e+00]\n",
            " [-3.429500e+03  4.985015e+05  1.098500e+03]]\n",
            "#8: result = \n",
            " [[1.   1.41 1.73 2.   2.24]\n",
            " [2.45 2.65 2.83 3.   3.16]\n",
            " [3.32 3.46 3.61 3.74 3.87]]\n",
            "float64\n"
          ]
        }
      ],
      "source": [
        "# Write your answer here\n",
        "#1\n",
        "ones = ones/3\n",
        "print(\"#1: divided ones by 3, result = \\n\", ones)\n",
        "#2\n",
        "#sliced the last two columns of myarray2 out so it becomes compatible to be used in addition, subtraction, and elementwise multiplication\n",
        "array2Slice = myarray2[:,:3]\n",
        "sum = myarray1+ array2Slice\n",
        "print(\"#2: myarray1 + myarray2 = \\n\", sum)\n",
        "#3\n",
        "subtractArray = array2Slice - myarray1\n",
        "print(\"#3: myarray2 - myarray1 = \\n\",subtractArray)\n",
        "#4\n",
        "multArray = myarray1 * array2Slice\n",
        "print(\"#4: elementwise mult. = \\n\", multArray)\n",
        "#5\n",
        "#matrix multiplication is doable with original arrays as dimensions are compatible\n",
        "myarray3 = myarray1.dot(myarray2)\n",
        "print(\"#5: myarray3 = \\n\", myarray3)\n",
        "#6\n",
        "#back to using the slice to divide for compatibility\n",
        "divArray = myarray1/array2Slice\n",
        "print(\"#6: division result = \\n\", divArray)\n",
        "#7\n",
        "cubeArray = (myarray1**3)/2\n",
        "print(\"#7: result = \\n\", cubeArray)\n",
        "#8\n",
        "sqrtArray = np.round(np.sqrt(myarray2)/2,2)\n",
        "print(\"#8: result = \\n\", sqrtArray)\n",
        "print(myarray2.dtype)\n",
        "\n",
        "\n"
      ]
    },
    {
      "cell_type": "markdown",
      "id": "d8aafc74",
      "metadata": {
        "id": "d8aafc74"
      },
      "source": [
        "Using the arrays created above, write NumPy commands for the following:\n",
        "1. Find the transpose of ones and myarray2.\n",
        "2. Sort the array vowels in reverse.\n",
        "3. Sort the array myarray1 such that it brings the lowest value of the column in the first row and so on."
      ]
    },
    {
      "cell_type": "code",
      "execution_count": 4,
      "id": "573c6506",
      "metadata": {
        "id": "573c6506",
        "colab": {
          "base_uri": "https://localhost:8080/"
        },
        "outputId": "02c0b25a-e0cf-47be-bb22-952a550f0287"
      },
      "outputs": [
        {
          "output_type": "stream",
          "name": "stdout",
          "text": [
            "#1: transposes of ones and myarray2 are: \n",
            " [[0.33333333]\n",
            " [0.33333333]\n",
            " [0.33333333]\n",
            " [0.33333333]\n",
            " [0.33333333]\n",
            " [0.33333333]\n",
            " [0.33333333]\n",
            " [0.33333333]\n",
            " [0.33333333]\n",
            " [0.33333333]] [[ 4. 24. 44.]\n",
            " [ 8. 28. 48.]\n",
            " [12. 32. 52.]\n",
            " [16. 36. 56.]\n",
            " [20. 40. 60.]]\n",
            "2: reversing vowels back: \n",
            " ['u' 'o' 'i' 'e' 'a']\n",
            "#3 sorted myarray1 : \n",
            " [[-19.    0.   -2. ]\n",
            " [  2.7  10.6   0. ]\n",
            " [  3.4  99.9  13. ]]\n"
          ]
        }
      ],
      "source": [
        "# Write your answer here\n",
        "#1\n",
        "myarray2_transpose = myarray2.T\n",
        "ones_transpose = ones.T\n",
        "print(\"#1: transposes of ones and myarray2 are: \\n\", ones_transpose, myarray2_transpose)\n",
        "#2\n",
        "vowels = np.sort(vowels)[::-1]\n",
        "print(\"2: reversing vowels back: \\n\", vowels)\n",
        "#3\n",
        "sorted_myarray1_columnwise = np.sort(myarray1, axis=0)\n",
        "print(\"#3 sorted myarray1 : \\n\", sorted_myarray1_columnwise)\n"
      ]
    },
    {
      "cell_type": "markdown",
      "id": "93546856",
      "metadata": {
        "id": "93546856"
      },
      "source": [
        "Create a 2-D array called myarray4 using arange() having 14 rows and 3 columns with start value = -1, step size 0.25 having. Split this array row wise into 3 equal parts and print the result."
      ]
    },
    {
      "cell_type": "code",
      "execution_count": 5,
      "id": "441dd934",
      "metadata": {
        "id": "441dd934",
        "colab": {
          "base_uri": "https://localhost:8080/"
        },
        "outputId": "1abffd7f-d3c2-4cd1-c5bd-a1544873cf7e"
      },
      "outputs": [
        {
          "output_type": "stream",
          "name": "stdout",
          "text": [
            "presplit array: \n",
            " [[-1.   -0.75 -0.5 ]\n",
            " [-0.25  0.    0.25]\n",
            " [ 0.5   0.75  1.  ]\n",
            " [ 1.25  1.5   1.75]\n",
            " [ 2.    2.25  2.5 ]\n",
            " [ 2.75  3.    3.25]\n",
            " [ 3.5   3.75  4.  ]\n",
            " [ 4.25  4.5   4.75]\n",
            " [ 5.    5.25  5.5 ]\n",
            " [ 5.75  6.    6.25]\n",
            " [ 6.5   6.75  7.  ]\n",
            " [ 7.25  7.5   7.75]\n",
            " [ 8.    8.25  8.5 ]\n",
            " [ 8.75  9.    9.25]]\n",
            "arrays after splitting into three equal parts row-wise: \n",
            "\n",
            "[array([[-1.  , -0.75, -0.5 ],\n",
            "       [-0.25,  0.  ,  0.25],\n",
            "       [ 0.5 ,  0.75,  1.  ],\n",
            "       [ 1.25,  1.5 ,  1.75],\n",
            "       [ 2.  ,  2.25,  2.5 ]]), array([[2.75, 3.  , 3.25],\n",
            "       [3.5 , 3.75, 4.  ],\n",
            "       [4.25, 4.5 , 4.75],\n",
            "       [5.  , 5.25, 5.5 ],\n",
            "       [5.75, 6.  , 6.25]]), array([[6.5 , 6.75, 7.  ],\n",
            "       [7.25, 7.5 , 7.75],\n",
            "       [8.  , 8.25, 8.5 ],\n",
            "       [8.75, 9.  , 9.25]])]\n"
          ]
        }
      ],
      "source": [
        "# Write your answer here\n",
        "# 14 x 3 = 42 <- number of total elements\n",
        "# 41 after the initial -1 so add 0.25 41 times to find the last element = 0.25 * 41 + -1 = 9.25\n",
        "myarray4 = np.arange(-1,9.26,0.25).reshape(14,3)\n",
        "print(\"presplit array: \\n\", myarray4)\n",
        "print(\"arrays after splitting into three equal parts row-wise: \\n\")\n",
        "myarray4_split =  np.array_split(myarray4,3)\n",
        "print(myarray4_split)\n",
        "\n"
      ]
    },
    {
      "cell_type": "markdown",
      "id": "c8cdbaff",
      "metadata": {
        "id": "c8cdbaff"
      },
      "source": [
        "Using the myarray4 created in the above questions, write commands for the following:\n",
        "1. Find the sum of all elements.\n",
        "2. Find the sum of all elements row wise\n",
        "3. Find the sum of all elements column wise.\n",
        "4. Find the max of all elements.\n",
        "5. Find the min of all elements in each row.\n",
        "6. Find the mean of all elements in each row.\n",
        "7. Find the standard deviation column wise."
      ]
    },
    {
      "cell_type": "code",
      "execution_count": 6,
      "id": "66af8b55",
      "metadata": {
        "id": "66af8b55",
        "colab": {
          "base_uri": "https://localhost:8080/"
        },
        "outputId": "1adaf48a-7298-404c-f339-ed9113ef60aa"
      },
      "outputs": [
        {
          "output_type": "stream",
          "name": "stdout",
          "text": [
            "each row is an answer to parts 1 to 7\n",
            "173.25\n",
            "[-2.25  0.    2.25  4.5   6.75  9.   11.25 13.5  15.75 18.   20.25 22.5\n",
            " 24.75 27.  ]\n",
            "[54.25 57.75 61.25]\n",
            "9.25\n",
            "[-1.   -0.25  0.5   1.25  2.    2.75  3.5   4.25  5.    5.75  6.5   7.25\n",
            "  8.    8.75]\n",
            "[-0.75  0.    0.75  1.5   2.25  3.    3.75  4.5   5.25  6.    6.75  7.5\n",
            "  8.25  9.  ]\n",
            "[3.02334666 3.02334666 3.02334666]\n"
          ]
        }
      ],
      "source": [
        "# Write your ansewr here\n",
        "print(\"each row is an answer to parts 1 to 7\")\n",
        "#1\n",
        "sum = np.sum(myarray4)\n",
        "print(sum)\n",
        "#2\n",
        "sum_row_wise = np.sum(myarray4, axis=1)\n",
        "print(sum_row_wise)\n",
        "#3\n",
        "sum_col_wise = np.sum(myarray4, axis=0)\n",
        "print(sum_col_wise)\n",
        "#4\n",
        "max = np.max(myarray4)\n",
        "print(max)\n",
        "#5\n",
        "min_row_wise = np.min(myarray4,axis=1)\n",
        "print(min_row_wise)\n",
        "#6\n",
        "mean_row_wise = np.mean(myarray4, axis=1)\n",
        "print(mean_row_wise)\n",
        "#7\n",
        "std = np.std(myarray4, axis=0)\n",
        "print(std)"
      ]
    },
    {
      "cell_type": "markdown",
      "id": "8d7e1dca",
      "metadata": {
        "id": "8d7e1dca"
      },
      "source": [
        "#### Practice Exercise 2\n",
        "Read the coordinates of the capital cities of the world from the country-capital-lat-long-population.csv file. Use NumPy to print the name and coordinates of the capital city closest to the Saudi Arabia capital - Riyadh.\n",
        "\n",
        "Note that:\n",
        "\n",
        "1. The Country Name for Saudi Arabia is given as Saudi Arabia in the data.\n",
        "2. The ‘closeness’ of capital cities from the Saudi Arabia capital is based on the Euclidean distance of their coordinates to those of the Saudi Arabia capital.\n",
        "\n",
        "\n",
        "Hints:\n",
        "\n",
        "1. Use read_html() from the Pandas library to read the table.\n",
        "2. Use the to_numpy() function of the Pandas DataFrame class to convert a DataFrame to a Numpy array\n",
        "3. Use broadcasting to compute the euclidean distance of capital cities from Riyadh."
      ]
    },
    {
      "cell_type": "code",
      "execution_count": 17,
      "id": "ab6b9725",
      "metadata": {
        "id": "ab6b9725",
        "colab": {
          "base_uri": "https://localhost:8080/"
        },
        "outputId": "984b2e3e-c25e-4660-971d-2bd16ed1fe0c"
      },
      "outputs": [
        {
          "output_type": "stream",
          "name": "stdout",
          "text": [
            "['Bahrain' 'Al-Manamah (Manama)' 26.2154 50.5832]\n"
          ]
        }
      ],
      "source": [
        "# Write your answer here\n",
        "import pandas as pd\n",
        "\n",
        "data = pd.read_csv( \"country-capital-lat-long-population.csv\")\n",
        "array = data[['Country','Capital City','Latitude','Longitude']].to_numpy()\n",
        "#we have 234 rows (countries) lets extract the row that contains saudi arabia\n",
        "#using the mask technique, where you get a boolean array that returns true where the value matches \"Saudi Arabia\"\n",
        "mask = array[:,0] == \"Saudi Arabia\"\n",
        "#extract row using the mask\n",
        "saudi_row = array[mask]\n",
        "\n",
        "#1d array of riyadh coords\n",
        "riyadh_coords = saudi_row[0,2:4]\n",
        "#convert to float\n",
        "riyadh_coords = riyadh_coords.astype(float)\n",
        "\n",
        "#2d array of all capital coords\n",
        "capital_coords = array[:,2:]\n",
        "# Convert the array to float type\n",
        "capital_coords = capital_coords.astype(float)\n",
        "\n",
        "#now to broadcast the riyadh coords and subtract them from the capital coords then to measure the eucledian distance\n",
        "distances_from_riyadh = np.sqrt(np.sum((capital_coords-riyadh_coords)**2,axis=1))\n",
        "\n",
        "#find the closest distance to 0 (not including 0 which is riyadh itself)\n",
        "closest_index= -1\n",
        "closest_distance = np.inf\n",
        "for i,d in enumerate(distances_from_riyadh):\n",
        "  if d != 0:\n",
        "    if d<closest_distance:\n",
        "      closest_index = i\n",
        "      closest_distance = d\n",
        "\n",
        "#now we have the row of the closest capital to riyadh, lets extract it from the original array and print its information\n",
        "print(array[closest_index,:])\n"
      ]
    },
    {
      "cell_type": "markdown",
      "id": "1fdbec05",
      "metadata": {
        "id": "1fdbec05"
      },
      "source": [
        "#### Practical Exercise 2\n",
        "\n",
        "Use NumPy to:\n",
        "\n",
        "1. Print the names of the countries of the top 10 capital cities closest to the US capital - Washington DC.\n",
        "\n",
        "2. Create and print a NumPy array containing the coordinates of the top 10 cities."
      ]
    },
    {
      "cell_type": "code",
      "execution_count": 24,
      "id": "45046a85",
      "metadata": {
        "id": "45046a85",
        "colab": {
          "base_uri": "https://localhost:8080/"
        },
        "outputId": "c2611343-19e3-427d-fa8e-3990ae15f518"
      },
      "outputs": [
        {
          "output_type": "stream",
          "name": "stdout",
          "text": [
            "#1: \n",
            " ['Canada' 'Bahamas' 'Bermuda' 'Cuba' 'Turks and Caicos Islands'\n",
            " 'Cayman Islands' 'Haiti' 'Jamaica' 'Dominican Republic'\n",
            " 'Saint Pierre and Miquelon']\n",
            "#2: \n",
            " [[45.4166 -75.698]\n",
            " [25.0582 -77.3431]\n",
            " [32.2915 -64.778]\n",
            " [23.1195 -82.3785]\n",
            " [21.4612 -71.1419]\n",
            " [19.2866 -81.3744]\n",
            " [18.5392 -72.335]\n",
            " [17.997 -76.7936]\n",
            " [18.4896 -69.9018]\n",
            " [46.7738 -56.1815]]\n"
          ]
        }
      ],
      "source": [
        "# Write your answer here\n",
        "#find the index in the array where Washington DC is\n",
        "index = np.where(data == \"United States of America\")[0]\n",
        "#get coords\n",
        "#1d array of riyadh coords\n",
        "washington_coords = array[index,2:4]\n",
        "#convert to float\n",
        "washington_coords = washington_coords.astype(float)\n",
        "#converting to 1D array so I can broadcast to capital_coords\n",
        "washington_coords = washington_coords.reshape(-1)\n",
        "#now to broadcast the washington coords and subtract them from the capital coords then to measure the eucledian distance\n",
        "distances_from_washington = np.sqrt(np.sum((capital_coords-washington_coords)**2,axis=1))\n",
        "#get the indices of the top 10 closest capitals to washington using np.argsort() then slice off the first index because it is for washington itself\n",
        "top_10_indices = np.argsort(distances_from_washington)[:11]\n",
        "top_10_indices = top_10_indices[1:13]\n",
        "#get the rows from the array that correspond to these indices and print them\n",
        "top_10_closest = array[top_10_indices]\n",
        "print(\"#1: \\n\",top_10_closest[:,0])\n",
        "print(\"#2: \\n\", top_10_closest[:,2:4])"
      ]
    }
  ],
  "metadata": {
    "kernelspec": {
      "display_name": "Python 3 (ipykernel)",
      "language": "python",
      "name": "python3"
    },
    "language_info": {
      "codemirror_mode": {
        "name": "ipython",
        "version": 3
      },
      "file_extension": ".py",
      "mimetype": "text/x-python",
      "name": "python",
      "nbconvert_exporter": "python",
      "pygments_lexer": "ipython3",
      "version": "3.9.13"
    },
    "colab": {
      "provenance": []
    }
  },
  "nbformat": 4,
  "nbformat_minor": 5
}